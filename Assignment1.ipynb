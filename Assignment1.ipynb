{
 "cells": [
  {
   "cell_type": "markdown",
   "id": "8f9684f5-68fb-4611-970f-499e311137d4",
   "metadata": {},
   "source": [
    "---\n",
    "\n",
    "<div align=\"center\">\n",
    "\n",
    "\n",
    "## Image Processing (ENIN 880CA – fall 2021)\n",
    "### Assignment 1\n",
    " \n",
    "\n",
    "  \n",
    "### Instructor: Mehran Mehrandezh\n",
    "### Elyar Zavvari\n",
    "</div>\n",
    "\n",
    "----\n",
    "\n",
    "*Students should read chapters 12 and 13 of the book: Robotics, Vision, and Control by Peter Corke (1 st Edition).  \n",
    "Students should also watch the following videos on MasterClasses under “computer vision” in QUT Robot Academy: Image Processing (10 lessons), Spatial Operators (11 lessons), and Feature Extraction (9 lessons).  \n",
    "Students are allowed to use the following toolboxes/software libraries for doing exercise #1:*\n",
    "- *__Machine Vision Toolbox__ in Matlab by Peter Corke*\n",
    "- *__Image Processing Toolbox__ in Matlab by Mathworks*\n",
    "- *__Computer Vision Toolbox__ in Matlab by Mathworks*\n",
    "- *__OpenCV__*"
   ]
  },
  {
   "cell_type": "markdown",
   "id": "f984c759-1f51-49aa-8d74-10b880d64fbe",
   "metadata": {},
   "source": []
  },
  {
   "cell_type": "code",
   "execution_count": null,
   "id": "eee50d8f-543d-415b-b102-6f435a660fc0",
   "metadata": {},
   "outputs": [],
   "source": []
  }
 ],
 "metadata": {
  "kernelspec": {
   "display_name": "Python 3",
   "language": "python",
   "name": "python3"
  },
  "language_info": {
   "codemirror_mode": {
    "name": "ipython",
    "version": 3
   },
   "file_extension": ".py",
   "mimetype": "text/x-python",
   "name": "python",
   "nbconvert_exporter": "python",
   "pygments_lexer": "ipython3",
   "version": "3.7.4"
  }
 },
 "nbformat": 4,
 "nbformat_minor": 5
}
